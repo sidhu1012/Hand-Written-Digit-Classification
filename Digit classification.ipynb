{
 "cells": [
  {
   "cell_type": "code",
   "execution_count": 3,
   "metadata": {},
   "outputs": [],
   "source": [
    "import pandas as pd\n",
    "import numpy as np\n",
    "from keras.models import Sequential\n",
    "from keras.layers import Dense\n",
    "from keras.utils import to_categorical\n",
    "from keras.datasets import mnist\n",
    "import matplotlib.pyplot as plt"
   ]
  },
  {
   "cell_type": "code",
   "execution_count": 4,
   "metadata": {},
   "outputs": [],
   "source": [
    "%matplotlib inline"
   ]
  },
  {
   "cell_type": "code",
   "execution_count": 5,
   "metadata": {},
   "outputs": [
    {
     "name": "stdout",
     "output_type": "stream",
     "text": [
      "Downloading data from https://s3.amazonaws.com/img-datasets/mnist.npz\n",
      "11493376/11490434 [==============================] - 11s 1us/step\n"
     ]
    }
   ],
   "source": [
    "(x_train,y_train),(x_test,y_test)=mnist.load_data()"
   ]
  },
  {
   "cell_type": "code",
   "execution_count": 6,
   "metadata": {},
   "outputs": [
    {
     "data": {
      "text/plain": [
       "(60000, 28, 28)"
      ]
     },
     "execution_count": 6,
     "metadata": {},
     "output_type": "execute_result"
    }
   ],
   "source": [
    "x_train.shape"
   ]
  },
  {
   "cell_type": "code",
   "execution_count": 7,
   "metadata": {},
   "outputs": [
    {
     "data": {
      "text/plain": [
       "<matplotlib.image.AxesImage at 0x21fb8d5b048>"
      ]
     },
     "execution_count": 7,
     "metadata": {},
     "output_type": "execute_result"
    },
    {
     "data": {
      "image/png": "[encoded data removed]",
      "text/plain": [
       "<Figure size 432x288 with 1 Axes>"
      ]
     },
     "metadata": {
      "needs_background": "light"
     },
     "output_type": "display_data"
    }
   ],
   "source": [
    "plt.imshow(x_train[0])"
   ]
  },
  {
   "cell_type": "code",
   "execution_count": 8,
   "metadata": {},
   "outputs": [],
   "source": [
    "num_pixels = x_train.shape[1] * x_train.shape[2]\n",
    "x_train = x_train.reshape(x_train.shape[0] , num_pixels).astype('float32')\n",
    "x_test = x_test.reshape(x_test.shape[0] , num_pixels).astype('float32')"
   ]
  },
  {
   "cell_type": "code",
   "execution_count": 9,
   "metadata": {},
   "outputs": [],
   "source": [
    "from sklearn.preprocessing import StandardScaler\n",
    "x_train=StandardScaler().fit_transform(x_train)\n",
    "x_test=StandardScaler().fit_transform(x_test)"
   ]
  },
  {
   "cell_type": "code",
   "execution_count": 10,
   "metadata": {},
   "outputs": [
    {
     "name": "stdout",
     "output_type": "stream",
     "text": [
      "10\n"
     ]
    }
   ],
   "source": [
    "y_train=to_categorical(y_train)\n",
    "y_test=to_categorical(y_test)\n",
    "num_classes=y_test.shape[1]\n",
    "print(num_classes)"
   ]
  },
  {
   "cell_type": "code",
   "execution_count": 16,
   "metadata": {},
   "outputs": [],
   "source": [
    "def classification_model():\n",
    "    model = Sequential()\n",
    "    model.add(Dense(num_pixels,activation='relu',input_shape=(num_pixels,)))\n",
    "    model.add(Dense(100,activation='relu'))\n",
    "    model.add(Dense(100,activation='relu'))\n",
    "    model.add(Dense(num_classes,activation='softmax'))\n",
    "    model.compile(optimizer='adam',loss='categorical_crossentropy',metrics=['accuracy'])\n",
    "    return model"
   ]
  },
  {
   "cell_type": "code",
   "execution_count": 17,
   "metadata": {},
   "outputs": [],
   "source": [
    "model=classification_model()"
   ]
  },
  {
   "cell_type": "code",
   "execution_count": 19,
   "metadata": {},
   "outputs": [
    {
     "name": "stdout",
     "output_type": "stream",
     "text": [
      "Train on 60000 samples, validate on 10000 samples\n",
      "Epoch 1/50\n",
      " - 29s - loss: 0.2294 - accuracy: 0.9345 - val_loss: 0.1533 - val_accuracy: 0.9577\n",
      "Epoch 2/50\n",
      " - 28s - loss: 0.1203 - accuracy: 0.9656 - val_loss: 0.1490 - val_accuracy: 0.9618\n",
      "Epoch 3/50\n",
      " - 29s - loss: 0.0933 - accuracy: 0.9733 - val_loss: 0.1286 - val_accuracy: 0.9692\n",
      "Epoch 4/50\n",
      " - 29s - loss: 0.0786 - accuracy: 0.9782 - val_loss: 0.1628 - val_accuracy: 0.9593\n",
      "Epoch 5/50\n",
      " - 32s - loss: 0.0655 - accuracy: 0.9813 - val_loss: 0.1205 - val_accuracy: 0.9711\n",
      "Epoch 6/50\n",
      " - 34s - loss: 0.0578 - accuracy: 0.9845 - val_loss: 0.1493 - val_accuracy: 0.9708\n",
      "Epoch 7/50\n",
      " - 30s - loss: 0.0486 - accuracy: 0.9862 - val_loss: 0.1585 - val_accuracy: 0.9722\n",
      "Epoch 8/50\n",
      " - 29s - loss: 0.0445 - accuracy: 0.9878 - val_loss: 0.1455 - val_accuracy: 0.9714\n",
      "Epoch 9/50\n",
      " - 31s - loss: 0.0450 - accuracy: 0.9887 - val_loss: 0.1479 - val_accuracy: 0.9730\n",
      "Epoch 10/50\n",
      " - 29s - loss: 0.0420 - accuracy: 0.9900 - val_loss: 0.1418 - val_accuracy: 0.9722\n",
      "Epoch 11/50\n",
      " - 29s - loss: 0.0309 - accuracy: 0.9916 - val_loss: 0.1553 - val_accuracy: 0.9736\n",
      "Epoch 12/50\n",
      " - 29s - loss: 0.0407 - accuracy: 0.9908 - val_loss: 0.1609 - val_accuracy: 0.9717\n",
      "Epoch 13/50\n",
      " - 31s - loss: 0.0301 - accuracy: 0.9916 - val_loss: 0.1503 - val_accuracy: 0.9752\n",
      "Epoch 14/50\n",
      " - 29s - loss: 0.0334 - accuracy: 0.9923 - val_loss: 0.2256 - val_accuracy: 0.9695\n",
      "Epoch 15/50\n",
      " - 30s - loss: 0.0295 - accuracy: 0.9926 - val_loss: 0.1990 - val_accuracy: 0.9733\n",
      "Epoch 16/50\n",
      " - 31s - loss: 0.0322 - accuracy: 0.9923 - val_loss: 0.2116 - val_accuracy: 0.9745\n",
      "Epoch 17/50\n",
      " - 29s - loss: 0.0291 - accuracy: 0.9936 - val_loss: 0.1700 - val_accuracy: 0.9733\n",
      "Epoch 18/50\n",
      " - 29s - loss: 0.0301 - accuracy: 0.9936 - val_loss: 0.2366 - val_accuracy: 0.9692\n",
      "Epoch 19/50\n",
      " - 30s - loss: 0.0304 - accuracy: 0.9936 - val_loss: 0.2081 - val_accuracy: 0.9721\n",
      "Epoch 20/50\n",
      " - 30s - loss: 0.0337 - accuracy: 0.9932 - val_loss: 0.2292 - val_accuracy: 0.9741\n",
      "Epoch 21/50\n",
      " - 33s - loss: 0.0243 - accuracy: 0.9948 - val_loss: 0.2146 - val_accuracy: 0.9742\n",
      "Epoch 22/50\n",
      " - 33s - loss: 0.0234 - accuracy: 0.9947 - val_loss: 0.2328 - val_accuracy: 0.9756\n",
      "Epoch 23/50\n",
      " - 32s - loss: 0.0246 - accuracy: 0.9946 - val_loss: 0.2744 - val_accuracy: 0.9733\n",
      "Epoch 24/50\n",
      " - 31s - loss: 0.0214 - accuracy: 0.9955 - val_loss: 0.2271 - val_accuracy: 0.9742\n",
      "Epoch 25/50\n",
      " - 30s - loss: 0.0250 - accuracy: 0.9950 - val_loss: 0.2331 - val_accuracy: 0.9746\n",
      "Epoch 26/50\n",
      " - 29s - loss: 0.0236 - accuracy: 0.9958 - val_loss: 0.2664 - val_accuracy: 0.9736\n",
      "Epoch 27/50\n",
      " - 29s - loss: 0.0290 - accuracy: 0.9949 - val_loss: 0.2836 - val_accuracy: 0.9743\n",
      "Epoch 28/50\n",
      " - 29s - loss: 0.0238 - accuracy: 0.9955 - val_loss: 0.2691 - val_accuracy: 0.9739\n",
      "Epoch 29/50\n",
      " - 30s - loss: 0.0236 - accuracy: 0.9949 - val_loss: 0.2442 - val_accuracy: 0.9742\n",
      "Epoch 30/50\n",
      " - 29s - loss: 0.0276 - accuracy: 0.9943 - val_loss: 0.2259 - val_accuracy: 0.9745\n",
      "Epoch 31/50\n",
      " - 29s - loss: 0.0180 - accuracy: 0.9961 - val_loss: 0.2552 - val_accuracy: 0.9735\n",
      "Epoch 32/50\n",
      " - 30s - loss: 0.0221 - accuracy: 0.9957 - val_loss: 0.3154 - val_accuracy: 0.9746\n",
      "Epoch 33/50\n",
      " - 30s - loss: 0.0272 - accuracy: 0.9947 - val_loss: 0.2393 - val_accuracy: 0.9757\n",
      "Epoch 34/50\n",
      " - 29s - loss: 0.0210 - accuracy: 0.9962 - val_loss: 0.2915 - val_accuracy: 0.9746\n",
      "Epoch 35/50\n",
      " - 30s - loss: 0.0286 - accuracy: 0.9954 - val_loss: 0.3893 - val_accuracy: 0.9736\n",
      "Epoch 36/50\n",
      " - 31s - loss: 0.0208 - accuracy: 0.9960 - val_loss: 0.2842 - val_accuracy: 0.9714\n",
      "Epoch 37/50\n",
      " - 30s - loss: 0.0235 - accuracy: 0.9959 - val_loss: 0.4834 - val_accuracy: 0.9709\n",
      "Epoch 38/50\n",
      " - 29s - loss: 0.0246 - accuracy: 0.9956 - val_loss: 0.3086 - val_accuracy: 0.9767\n",
      "Epoch 39/50\n",
      " - 30s - loss: 0.0155 - accuracy: 0.9964 - val_loss: 0.2550 - val_accuracy: 0.9746\n",
      "Epoch 40/50\n",
      " - 30s - loss: 0.0242 - accuracy: 0.9955 - val_loss: 0.2892 - val_accuracy: 0.9761\n",
      "Epoch 41/50\n",
      " - 29s - loss: 0.0183 - accuracy: 0.9962 - val_loss: 0.2847 - val_accuracy: 0.9761\n",
      "Epoch 42/50\n",
      " - 30s - loss: 0.0208 - accuracy: 0.9961 - val_loss: 0.2619 - val_accuracy: 0.9775\n",
      "Epoch 43/50\n",
      " - 31s - loss: 0.0203 - accuracy: 0.9957 - val_loss: 0.3103 - val_accuracy: 0.9745\n",
      "Epoch 44/50\n",
      " - 31s - loss: 0.0237 - accuracy: 0.9956 - val_loss: 0.2093 - val_accuracy: 0.9777\n",
      "Epoch 45/50\n",
      " - 32s - loss: 0.0167 - accuracy: 0.9963 - val_loss: 0.2360 - val_accuracy: 0.9770\n",
      "Epoch 46/50\n",
      " - 32s - loss: 0.0164 - accuracy: 0.9963 - val_loss: 0.2390 - val_accuracy: 0.9759\n",
      "Epoch 47/50\n",
      " - 32s - loss: 0.0281 - accuracy: 0.9947 - val_loss: 0.2896 - val_accuracy: 0.9721\n",
      "Epoch 48/50\n",
      " - 30s - loss: 0.0270 - accuracy: 0.9959 - val_loss: 0.2746 - val_accuracy: 0.9767\n",
      "Epoch 49/50\n",
      " - 30s - loss: 0.0361 - accuracy: 0.9951 - val_loss: 0.3510 - val_accuracy: 0.9751\n",
      "Epoch 50/50\n",
      " - 29s - loss: 0.0202 - accuracy: 0.9960 - val_loss: 0.3640 - val_accuracy: 0.9755\n"
     ]
    },
    {
     "data": {
      "text/plain": [
       "<keras.callbacks.callbacks.History at 0x21fbb4364c8>"
      ]
     },
     "execution_count": 19,
     "metadata": {},
     "output_type": "execute_result"
    }
   ],
   "source": [
    "model.fit(x_train,y_train,validation_data=(x_test,y_test),epochs=50,verbose=2)"
   ]
  },
  {
   "cell_type": "code",
   "execution_count": 23,
   "metadata": {},
   "outputs": [
    {
     "name": "stdout",
     "output_type": "stream",
     "text": [
      "Accuracy:97.54999876022339% \n",
      " Error:0.024500012397766113\n"
     ]
    }
   ],
   "source": [
    "score=model.evaluate(x_test,y_test,verbose=0)\n",
    "print('Accuracy:{}% \\n Error:{}'.format(score[1]*100,1-score[1]))"
   ]
  },
  {
   "cell_type": "code",
   "execution_count": null,
   "metadata": {},
   "outputs": [],
   "source": []
  }
 ],
 "metadata": {
  "kernelspec": {
   "display_name": "Python 3",
   "language": "python",
   "name": "python3"
  },
  "language_info": {
   "codemirror_mode": {
    "name": "ipython",
    "version": 3
   },
   "file_extension": ".py",
   "mimetype": "text/x-python",
   "name": "python",
   "nbconvert_exporter": "python",
   "pygments_lexer": "ipython3",
   "version": "3.7.7"
  }
 },
 "nbformat": 4,
 "nbformat_minor": 4
}
